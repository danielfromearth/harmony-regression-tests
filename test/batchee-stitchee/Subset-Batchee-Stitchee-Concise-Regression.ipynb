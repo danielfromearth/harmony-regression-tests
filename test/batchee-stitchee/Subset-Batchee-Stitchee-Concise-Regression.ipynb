{
 "cells": [
  {
   "cell_type": "markdown",
   "id": "045ce894-526a-4565-bd2a-7419f1e3a1ef",
   "metadata": {},
   "source": [
    "# Regression test suite for the Harmony Subsetter with Multi-dimensional Concatenator backend Harmony service chain:\n",
    "\n",
    "<!-- This notebook provides condensed examples of using Harmony to make requests against the Variable Subsetter services developed and managed by the Data Services team on the Transformation Train. This service makes use of CF-Conventions to retrieve all requested variable from OPeNDAP, along with all those other variables required to make the output product usable in downstream processing (e.g., coordinate and dimension variables). This service can be used with any OPeNDAP-enabled collection that adheres to the Climate and Forecast metadata conventions. -->\n",
    "\n",
    "The data retrieved from the service chain will be in a NetCDF-4 format."
   ]
  },
  {
   "cell_type": "markdown",
   "id": "1c3f762b-f99c-4d4d-889a-cdda3291b622",
   "metadata": {},
   "source": [
    "## Prerequisites\n",
    "\n",
    "<!-- The dependencies for this notebook are listed in the environment.yaml. To test or install locally, create the papermill environment used in the automated regression testing suite:\n",
    "\n",
    "conda env create -f ./environment.yaml && conda activate papermill-variable-subsetter -->\n",
    "\n",
    "A .netrc file must also be located in the test directory of this repository."
   ]
  },
  {
   "cell_type": "markdown",
   "id": "e38b5bc7-733f-4747-b250-b75964423156",
   "metadata": {},
   "source": [
    "## Import requirements:"
   ]
  },
  {
   "cell_type": "code",
   "execution_count": 2,
   "id": "2dabe73f-f41a-4e6e-b422-ff09cb987a8e",
   "metadata": {},
   "outputs": [],
   "source": [
    "from os.path import exists\n",
    "\n",
    "from harmony import Client, Collection, Environment, Request\n",
    "import numpy as np\n",
    "\n",
    "from utilities import (compare_results_to_reference_file, print_success,\n",
    "                       remove_results_files, submit_and_download)"
   ]
  },
  {
   "cell_type": "code",
   "execution_count": 3,
   "id": "e94af8dd-3372-43e2-adee-ae984285e8d7",
   "metadata": {},
   "outputs": [],
   "source": [
    "harmony_host_url = 'https://harmony.uat.earthdata.nasa.gov'"
   ]
  },
  {
   "cell_type": "markdown",
   "id": "09abb922-a976-4168-93c0-00025c425e22",
   "metadata": {},
   "source": [
    "## Identify Harmony environment (for easier reference):"
   ]
  },
  {
   "cell_type": "code",
   "execution_count": 20,
   "id": "e6148df6-4fe4-4ab8-8547-7ff74c54ae34",
   "metadata": {},
   "outputs": [],
   "source": [
    "host_environment = {'http://localhost:3000': Environment.LOCAL,\n",
    "                    'https://harmony.sit.earthdata.nasa.gov': Environment.SIT,\n",
    "                    'https://harmony.uat.earthdata.nasa.gov': Environment.UAT,\n",
    "                    'https://harmony.earthdata.nasa.gov': Environment.PROD}\n",
    "\n",
    "harmony_environment = host_environment.get(harmony_host_url)\n",
    "\n",
    "if harmony_environment is not None:\n",
    "    harmony_client = Client(env=harmony_environment)"
   ]
  },
  {
   "cell_type": "markdown",
   "id": "5647d5e9-42c8-48fa-90f9-a5671184557c",
   "metadata": {},
   "source": [
    "## Concatenation Service Chain"
   ]
  },
  {
   "cell_type": "code",
   "execution_count": 27,
   "id": "760c0a53-f363-4e41-9ec4-39c04ffab22d",
   "metadata": {},
   "outputs": [],
   "source": [
    "concatenator_chain_non_prod_information = {'collection': 'C1254854453-LARC_CLOUD'}\n",
    "\n",
    "concatenator_chain_env = {Environment.UAT: concatenator_chain_non_prod_information}\n",
    "\n",
    "if harmony_environment in concatenator_chain_env:\n",
    "    concatenator_chain_info = concatenator_chain_env[harmony_environment]\n",
    "else:\n",
    "    concatenator_chain_info = None"
   ]
  },
  {
   "cell_type": "markdown",
   "id": "06568b40-a7b0-49cc-8e4e-69a57e3eed42",
   "metadata": {},
   "source": [
    "## Concatenation-alone request:"
   ]
  },
  {
   "cell_type": "code",
   "execution_count": 35,
   "id": "a1310394-5512-48b7-9d63-7dcb7aa6253f",
   "metadata": {},
   "outputs": [
    {
     "name": "stdout",
     "output_type": "stream",
     "text": [
      "Downloaded: C1254854453-LARC_CLOUD_merged.nc4\n",
      "Saved output to: Concatenation_Result.nc4\n",
      "\u001b[92mSuccess: Subsetter-Concatenation request.\u001b[0m\n"
     ]
    }
   ],
   "source": [
    "if concatenator_chain_info is not None:\n",
    "    concatenator_chain_output_file_name = 'Concatenation_Result.nc4'\n",
    "    concatenator_chain_request = Request(\n",
    "        collection=Collection(id=concatenator_chain_info['collection']),\n",
    "        concatenate=\"True\",\n",
    "        extend=\"mirror_step\",\n",
    "        max_results=12\n",
    "    )\n",
    "\n",
    "    assert concatenator_chain_request.is_valid()\n",
    "\n",
    "    submit_and_download(harmony_client, concatenator_chain_request, concatenator_chain_output_file_name)\n",
    "    assert exists(concatenator_chain_output_file_name), 'Unsuccessful Subsetter-Concatenation request.'\n",
    "\n",
    "    # compare_results_to_reference_file(\n",
    "    #     single_var_file_name,\n",
    "    #     'reference_files/var_subsetter_single_var_reference.nc4'\n",
    "    # )\n",
    "\n",
    "    print_success('Subsetter-Concatenation request.')\n",
    "else:\n",
    "    print(f'The Subsetter-Concatenation is not configured for environment: \"{harmony_environment}\" - skipping test.')"
   ]
  },
  {
   "cell_type": "code",
   "execution_count": 30,
   "id": "271cbb61-9f1b-4b97-b5e6-118d1696a812",
   "metadata": {},
   "outputs": [],
   "source": [
    "from netCDF4 import Dataset, Group, Variable"
   ]
  },
  {
   "cell_type": "code",
   "execution_count": 31,
   "id": "14cd407b-fc6b-47dc-a1bd-cc798f8d259c",
   "metadata": {},
   "outputs": [
    {
     "name": "stdout",
     "output_type": "stream",
     "text": [
      "<bound method Dataset.ncattrs of <class 'netCDF4._netCDF4.Dataset'>\n",
      "root group (NETCDF4 data model, file format HDF5):\n",
      "    tio_commit: abba4bbcf910f6b8213ce2dfcabad202a0152ea9\n",
      "    product_type: NO2\n",
      "    processing_level: 2\n",
      "    processing_version: 1\n",
      "    time_reference: 1980-01-06T00:00:00Z\n",
      "    apriori_source: GEOSCF:forecast\n",
      "    geospatial_bounds_crs: EPSG:4326\n",
      "    version_id: 1\n",
      "    project: TEMPO\n",
      "    platform: Intelsat 40e\n",
      "    source: UV-VIS hyperspectral imaging\n",
      "    institution: Smithsonian Astrophysical Observatory\n",
      "    creator_url: http://tempo.si.edu\n",
      "    Conventions: CF-1.6, ACDD-1.3\n",
      "    title: TEMPO Level 2 nitrogen dioxide product\n",
      "    collection_shortname: TEMPO_NO2_L2\n",
      "    collection_version: 1\n",
      "    keywords: EARTH SCIENCE>ATMOSPHERE>AIR QUALITY>NITROGEN OXIDES, EARTH SCIENCE>ATMOSPHERE>ATMOSPHERIC CHEMISTRY>NITROGEN COMPOUNDS>NITROGEN DIOXIDE\n",
      "    summary: Nitrogen dioxide Level 2 files provide trace gas information at TEMPO’s native spatial resolution, ~10 km^2 at the center of the Field of Regard (FOR), for individual granules. Each granule covers the entire North-South TEMPO FOR but only a portion of the East-West FOR. The files are provided in netCDF4 format, and contain information on tropospheric, stratospheric and total nitrogen dioxide vertical columns, ancillary data used in air mass factor and stratospheric/tropospheric separation calculations, and retrieval quality flags. The retrieval uses a three-step approach: (1) spectral fitting of slant columns, (2) air mass factor calculation and derivation of vertical columns, and (3) stratospheric/tropospheric separation. For further details, please refer to the ATBD.\n",
      "    history_json: [{\"date_time\": \"2024-02-22T17:34:13.178625+00:00\", \"derived_from\": [\"s3://harmony-artifacts-uat/public/l2-subsetter-batchee-stitchee-concise/16f83606-b930-4227-bbe3-b69e4fa02db8/4005704/C1254854453-LARC_CLOUD_batch_of_6_starting_from_TEMPO_NO2_L2_V01_20231206T125918Z_S002G01_stitched.nc4\", \"s3://harmony-artifacts-uat/public/l2-subsetter-batchee-stitchee-concise/16f83606-b930-4227-bbe3-b69e4fa02db8/4005705/C1254854453-LARC_CLOUD_batch_of_6_starting_from_TEMPO_NO2_L2_V01_20231206T133923Z_S003G01_stitched.nc4\", \"s3://harmony-artifacts-uat/public/l2-subsetter-batchee-stitchee-concise/16f83606-b930-4227-bbe3-b69e4fa02db8/4005706/C1254854453-LARC_CLOUD_batch_of_6_starting_from_TEMPO_NO2_L2_V01_20231206T141928Z_S004G01_stitched.nc4\", \"s3://harmony-artifacts-uat/public/l2-subsetter-batchee-stitchee-concise/16f83606-b930-4227-bbe3-b69e4fa02db8/4005707/C1254854453-LARC_CLOUD_batch_of_9_starting_from_TEMPO_NO2_L2_V01_20231206T145933Z_S005G01_stitched.nc4\", \"s3://harmony-artifacts-uat/public/l2-subsetter-batchee-stitchee-concise/16f83606-b930-4227-bbe3-b69e4fa02db8/4005708/C1254854453-LARC_CLOUD_batch_of_9_starting_from_TEMPO_NO2_L2_V01_20231206T155933Z_S006G01_stitched.nc4\", \"s3://harmony-artifacts-uat/public/l2-subsetter-batchee-stitchee-concise/16f83606-b930-4227-bbe3-b69e4fa02db8/4005709/C1254854453-LARC_CLOUD_batch_of_6_starting_from_TEMPO_NO2_L2_V01_20240123T130026Z_S002G01_stitched.nc4\", \"s3://harmony-artifacts-uat/public/l2-subsetter-batchee-stitchee-concise/16f83606-b930-4227-bbe3-b69e4fa02db8/4005710/C1254854453-LARC_CLOUD_batch_of_6_starting_from_TEMPO_NO2_L2_V01_20240123T134031Z_S003G01_stitched.nc4\"], \"program\": \"concise\", \"version\": \"0.8.0rc1\", \"parameters\": \"input_files=[PosixPath('/tmp/tmpq3himw7v/C1254854453-LARC_CLOUD_batch_of_6_starting_from_TEMPO_NO2_L2_V01_20231206T125918Z_S002G01_stitched.nc4'), PosixPath('/tmp/tmpq3himw7v/C1254854453-LARC_CLOUD_batch_of_6_starting_from_TEMPO_NO2_L2_V01_20231206T133923Z_S003G01_stitched.nc4'), PosixPath('/tmp/tmpq3himw7v/C1254854453-LARC_CLOUD_batch_of_6_starting_from_TEMPO_NO2_L2_V01_20231206T141928Z_S004G01_stitched.nc4'), PosixPath('/tmp/tmpq3himw7v/C1254854453-LARC_CLOUD_batch_of_9_starting_from_TEMPO_NO2_L2_V01_20231206T145933Z_S005G01_stitched.nc4'), PosixPath('/tmp/tmpq3himw7v/C1254854453-LARC_CLOUD_batch_of_9_starting_from_TEMPO_NO2_L2_V01_20231206T155933Z_S006G01_stitched.nc4'), PosixPath('/tmp/tmpq3himw7v/C1254854453-LARC_CLOUD_batch_of_6_starting_from_TEMPO_NO2_L2_V01_20240123T130026Z_S002G01_stitched.nc4'), PosixPath('/tmp/tmpq3himw7v/C1254854453-LARC_CLOUD_batch_of_6_starting_from_TEMPO_NO2_L2_V01_20240123T134031Z_S003G01_stitched.nc4')]\", \"program_ref\": \"https://cmr.earthdata.nasa.gov:443/search/concepts/S2153799015-POCLOUD\", \"$schema\": \"https://harmony.earthdata.nasa.gov/schemas/history/0.1.0/history-v0.1.0.json\"}]\n",
      "    dimensions(sizes): subset_index(7), xtrack(2048), mirror_step(1181), corner(4), swt_level(72)\n",
      "    variables(dimensions): <class 'str'> subset_files(subset_index), int32 xtrack(subset_index, xtrack), int32 mirror_step(subset_index, mirror_step)\n",
      "    groups: geolocation, product, qa_statistics, support_data>\n"
     ]
    }
   ],
   "source": [
    "with Dataset(concatenator_chain_output_file_name) as results_ds:  #, Dataset(ref_file) as ref_ds:\n",
    "        # compare_group_to_reference(results_ds, ref_ds)\n",
    "    print(results_ds.ncattrs)"
   ]
  },
  {
   "cell_type": "markdown",
   "id": "971377d1-75fa-479c-9676-750df0634185",
   "metadata": {},
   "source": [
    "## Subsetting -> Concatenation request:"
   ]
  },
  {
   "cell_type": "code",
   "execution_count": 36,
   "id": "f69f3a56-0b87-4e40-8091-555830ac7f54",
   "metadata": {},
   "outputs": [
    {
     "name": "stdout",
     "output_type": "stream",
     "text": [
      "Downloaded: C1254854453-LARC_CLOUD_merged.nc4\n",
      "Saved output to: Subset-Concatenation_Result.nc4\n",
      "\u001b[92mSuccess: Subsetter-Concatenation request.\u001b[0m\n"
     ]
    }
   ],
   "source": [
    "if concatenator_chain_info is not None:\n",
    "    concatenator_chain_output_file_name = 'Subset-Concatenation_Result.nc4'\n",
    "    concatenator_chain_request = Request(\n",
    "        collection=Collection(id=concatenator_chain_info['collection']),\n",
    "        variables=[\"/product/vertical_column_total\", \"/product/vertical_column_troposphere\"],\n",
    "        concatenate=\"True\",\n",
    "        extend=\"mirror_step\",\n",
    "        max_results=12\n",
    "    )\n",
    "\n",
    "    assert concatenator_chain_request.is_valid()\n",
    "\n",
    "    submit_and_download(harmony_client, concatenator_chain_request, concatenator_chain_output_file_name)\n",
    "    assert exists(concatenator_chain_output_file_name), 'Unsuccessful Subsetter-Concatenation request.'\n",
    "\n",
    "    # compare_results_to_reference_file(\n",
    "    #     single_var_file_name,\n",
    "    #     'reference_files/var_subsetter_single_var_reference.nc4'\n",
    "    # )\n",
    "\n",
    "    print_success('Subsetter-Concatenation request.')\n",
    "else:\n",
    "    print(f'The Subsetter-Concatenation is not configured for environment: \"{harmony_environment}\" - skipping test.')"
   ]
  },
  {
   "cell_type": "code",
   "execution_count": 39,
   "id": "a38d0031-cfa7-4332-9177-610a1c9c295d",
   "metadata": {},
   "outputs": [
    {
     "name": "stdout",
     "output_type": "stream",
     "text": [
      "{'subset_index': <class 'netCDF4._netCDF4.Dimension'>: name = 'subset_index', size = 2, 'mirror_step': <class 'netCDF4._netCDF4.Dimension'>: name = 'mirror_step', size = 787, 'xtrack': <class 'netCDF4._netCDF4.Dimension'>: name = 'xtrack', size = 2048}\n"
     ]
    }
   ],
   "source": [
    "with Dataset(concatenator_chain_output_file_name) as results_ds:  #, Dataset(ref_file) as ref_ds:\n",
    "        # compare_group_to_reference(results_ds, ref_ds)\n",
    "    # print(results_ds.ncattrs)\n",
    "    print(results_ds.dimensions)"
   ]
  },
  {
   "cell_type": "code",
   "execution_count": null,
   "id": "e8e3d0c8-608a-4d93-bc34-afa15ae367c5",
   "metadata": {},
   "outputs": [],
   "source": []
  }
 ],
 "metadata": {
  "kernelspec": {
   "display_name": "harmony-py-queries",
   "language": "python",
   "name": "harmony-py-queries"
  },
  "language_info": {
   "codemirror_mode": {
    "name": "ipython",
    "version": 3
   },
   "file_extension": ".py",
   "mimetype": "text/x-python",
   "name": "python",
   "nbconvert_exporter": "python",
   "pygments_lexer": "ipython3",
   "version": "3.12.1"
  }
 },
 "nbformat": 4,
 "nbformat_minor": 5
}
