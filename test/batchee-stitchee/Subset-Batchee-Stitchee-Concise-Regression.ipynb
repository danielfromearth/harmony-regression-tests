{
 "cells": [
  {
   "cell_type": "markdown",
   "id": "045ce894-526a-4565-bd2a-7419f1e3a1ef",
   "metadata": {},
   "source": [
    "# Regression test suite for the Harmony Subsetter with Multi-dimensional Concatenator:\n",
    "\n",
    "<!-- This notebook provides condensed examples of using Harmony to make requests against the Variable Subsetter services developed and managed by the Data Services team on the Transformation Train. This service makes use of CF-Conventions to retrieve all requested variable from OPeNDAP, along with all those other variables required to make the output product usable in downstream processing (e.g., coordinate and dimension variables). This service can be used with any OPeNDAP-enabled collection that adheres to the Climate and Forecast metadata conventions. -->\n",
    "\n",
    "The data retrieved from the service chain will be in a NetCDF-4 format."
   ]
  },
  {
   "cell_type": "markdown",
   "id": "1c3f762b-f99c-4d4d-889a-cdda3291b622",
   "metadata": {},
   "source": [
    "## Prerequisites\n",
    "\n",
    "<!-- The dependencies for this notebook are listed in the environment.yaml. To test or install locally, create the papermill environment used in the automated regression testing suite:\n",
    "\n",
    "conda env create -f ./environment.yaml && conda activate papermill-variable-subsetter -->\n",
    "\n",
    "A .netrc file must also be located in the test directory of this repository."
   ]
  },
  {
   "cell_type": "markdown",
   "id": "e38b5bc7-733f-4747-b250-b75964423156",
   "metadata": {},
   "source": [
    "## Import requirements:"
   ]
  },
  {
   "cell_type": "code",
   "execution_count": 1,
   "id": "2dabe73f-f41a-4e6e-b422-ff09cb987a8e",
   "metadata": {},
   "outputs": [],
   "source": [
    "from os.path import exists\n",
    "\n",
    "from harmony import BBox, Client, Collection, Environment, Request\n",
    "import numpy as np\n",
    "\n",
    "from utilities import (\n",
    "    compare_results_to_reference_file, print_success, \n",
    "    compare_global_attributes_to_reference,\n",
    "    remove_results_files, submit_and_download\n",
    ")"
   ]
  },
  {
   "cell_type": "code",
   "execution_count": 2,
   "id": "e94af8dd-3372-43e2-adee-ae984285e8d7",
   "metadata": {},
   "outputs": [],
   "source": [
    "harmony_host_url = 'https://harmony.uat.earthdata.nasa.gov'"
   ]
  },
  {
   "cell_type": "markdown",
   "id": "09abb922-a976-4168-93c0-00025c425e22",
   "metadata": {},
   "source": [
    "## Identify Harmony environment (for easier reference):"
   ]
  },
  {
   "cell_type": "code",
   "execution_count": 3,
   "id": "e6148df6-4fe4-4ab8-8547-7ff74c54ae34",
   "metadata": {},
   "outputs": [],
   "source": [
    "host_environment = {'http://localhost:3000': Environment.LOCAL,\n",
    "                    'https://harmony.sit.earthdata.nasa.gov': Environment.SIT,\n",
    "                    'https://harmony.uat.earthdata.nasa.gov': Environment.UAT,\n",
    "                    'https://harmony.earthdata.nasa.gov': Environment.PROD}\n",
    "\n",
    "harmony_environment = host_environment.get(harmony_host_url)\n",
    "\n",
    "if harmony_environment is not None:\n",
    "    harmony_client = Client(env=harmony_environment)"
   ]
  },
  {
   "cell_type": "markdown",
   "id": "61940c15-fe97-474e-9d07-d81f7c6b1d96",
   "metadata": {},
   "source": [
    "# Begin regression tests:"
   ]
  },
  {
   "cell_type": "markdown",
   "id": "5f33ae26-b4c0-414c-9036-3a8328530e17",
   "metadata": {},
   "source": [
    "## Concatenation Service Chain"
   ]
  },
  {
   "cell_type": "markdown",
   "id": "2cb3d317-dacf-418b-999f-26d22fe45701",
   "metadata": {},
   "source": [
    "The Subsetter with Multi-dimensional Concatenator is currently only activated for collections in the UAT environment. Requests will be made against granules in the TEMPO L2 $NO_2$ and Formaldehyde collections, as these two are the only currently associated collections."
   ]
  },
  {
   "cell_type": "code",
   "execution_count": 4,
   "id": "760c0a53-f363-4e41-9ec4-39c04ffab22d",
   "metadata": {},
   "outputs": [],
   "source": [
    "concatenator_chain_non_prod_information = {'collection': 'C1254854453-LARC_CLOUD'}\n",
    "\n",
    "concatenator_chain_env = {Environment.UAT: concatenator_chain_non_prod_information}\n",
    "\n",
    "if harmony_environment in concatenator_chain_env:\n",
    "    concatenator_chain_info = concatenator_chain_env[harmony_environment]\n",
    "else:\n",
    "    concatenator_chain_info = None"
   ]
  },
  {
   "cell_type": "markdown",
   "id": "06568b40-a7b0-49cc-8e4e-69a57e3eed42",
   "metadata": {},
   "source": [
    "## Concatenator request:"
   ]
  },
  {
   "cell_type": "markdown",
   "id": "7d634646-3a03-43e8-b02f-d024a0c991c8",
   "metadata": {},
   "source": [
    "This is a request to retrieve a concatenated file from two TEMPO granules. The request will utilize L2ss-py, Batchee, STITCHEE, and CONCISE to subset spatially, and then both extend the existing `mirror_step` dimension and concatenate along a new `subset_index` dimension."
   ]
  },
  {
   "cell_type": "code",
   "execution_count": 5,
   "id": "e1612b17-ee74-4aab-b175-9a8f0bafc206",
   "metadata": {},
   "outputs": [],
   "source": [
    "concatenator_chain_output_file_name = 'subset-concatenator-3-files-3-vars-spatialsubset_result.nc4'"
   ]
  },
  {
   "cell_type": "code",
   "execution_count": 6,
   "id": "a1310394-5512-48b7-9d63-7dcb7aa6253f",
   "metadata": {},
   "outputs": [
    {
     "name": "stdout",
     "output_type": "stream",
     "text": [
      "job-id: 92e9101b-64a5-4cb2-8d90-2391e1f58878\n",
      "C1254854453-LARC_CLOUD_merged.nc4\n",
      "Downloaded: C1254854453-LARC_CLOUD_merged.nc4\n",
      "Saved output to: subset-concatenator-3-files-3-vars-spatialsubset_result.nc4\n",
      "\u001b[92mSuccess: Subsetter-Concatenation request.\u001b[0m\n"
     ]
    }
   ],
   "source": [
    "if concatenator_chain_info is not None:\n",
    "    concatenator_chain_request = Request(\n",
    "        collection=Collection(id=concatenator_chain_info['collection']),\n",
    "        concatenate=\"True\",\n",
    "        spatial=BBox(-100, 35, -90, 40),\n",
    "        variables=['/product/vertical_column_total', \n",
    "                   '/product/vertical_column_troposphere',\n",
    "                   '/product/vertical_column_stratosphere'],\n",
    "        extend=\"mirror_step\",\n",
    "        max_results=3\n",
    "    )\n",
    "    assert concatenator_chain_request.is_valid()\n",
    "\n",
    "    submit_and_download(harmony_client, concatenator_chain_request, concatenator_chain_output_file_name)\n",
    "    assert exists(concatenator_chain_output_file_name), 'Unsuccessful Subsetter-Concatenation request.'\n",
    "\n",
    "    # Check results\n",
    "    reference_file_name = 'reference_files/' + concatenator_chain_output_file_name\n",
    "    compare_results_to_reference_file(concatenator_chain_output_file_name, reference_file_name,\n",
    "                                      \"/\")\n",
    "    compare_results_to_reference_file(concatenator_chain_output_file_name, reference_file_name,\n",
    "                                      \"product\")\n",
    "    compare_results_to_reference_file(concatenator_chain_output_file_name, reference_file_name,\n",
    "                                      \"geolocation\")\n",
    "    compare_global_attributes_to_reference(concatenator_chain_output_file_name, reference_file_name)\n",
    "    \n",
    "    \n",
    "    print_success('Subsetter-Concatenation request.')\n",
    "else:\n",
    "    print(f'The Subsetter-Concatenation is not configured for environment: \"{harmony_environment}\" - skipping test.')"
   ]
  },
  {
   "cell_type": "code",
   "execution_count": 7,
   "id": "e1a9d9c9-1c9e-4279-af8b-ca61ed4035df",
   "metadata": {},
   "outputs": [],
   "source": [
    "remove_results_files()"
   ]
  }
 ],
 "metadata": {
  "kernelspec": {
   "display_name": "harmony-py-queries",
   "language": "python",
   "name": "harmony-py-queries"
  },
  "language_info": {
   "codemirror_mode": {
    "name": "ipython",
    "version": 3
   },
   "file_extension": ".py",
   "mimetype": "text/x-python",
   "name": "python",
   "nbconvert_exporter": "python",
   "pygments_lexer": "ipython3",
   "version": "3.12.2"
  }
 },
 "nbformat": 4,
 "nbformat_minor": 5
}
