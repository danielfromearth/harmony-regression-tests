{
 "cells": [
  {
   "cell_type": "markdown",
   "id": "f7f9ded8",
   "metadata": {},
   "source": [
    "# Regression test suite for the SAMBAH:\n",
    "\n",
    "This notebook provides condensed examples of using Harmony to make requests against the SAMBAH service developed to process L2 TEMPO data. The features of SAMBAH include:\n",
    "\n",
    "* Variable subsetting, including required variables.\n",
    "* Temporal subsetting.\n",
    "* Bounding box spatial subsetting.\n",
    "\n",
    "## Prerequisites\n",
    "\n",
    "The dependencies for this notebook are listed in the [environment.yaml](./environment.yaml). To test or install locally, create the papermill environment used in the automated regression testing suite:\n",
    "\n",
    "`conda env create -f ./environment.yaml && conda activate papermill-sambah`\n",
    "\n",
    "A `.netrc` file must also be located in the `test` directory of this repository."
   ]
  },
  {
   "cell_type": "markdown",
   "id": "009f1df8",
   "metadata": {},
   "source": [
    "## Import requirements:"
   ]
  },
  {
   "cell_type": "code",
   "execution_count": null,
   "id": "7ce7f640",
   "metadata": {
    "ExecuteTime": {
     "end_time": "2024-05-17T17:52:02.432376Z",
     "start_time": "2024-05-17T17:52:01.930482Z"
    },
    "tags": []
   },
   "outputs": [],
   "source": [
    "from datetime import datetime\n",
    "from os.path import exists\n",
    "\n",
    "from harmony import BBox, Client, Collection, Dimension, Environment, Request\n",
    "\n",
    "from utilities import (\n",
    "    compare_results_to_reference_file,\n",
    "    remove_results_files,\n",
    "    submit_and_download,\n",
    ")"
   ]
  },
  {
   "cell_type": "markdown",
   "id": "00758d6f",
   "metadata": {},
   "source": [
    "## Set default parameters:\n",
    "\n",
    "`papermill` requires default values for parameters used on the workflow. In this case, `harmony_host_url`."
   ]
  },
  {
   "cell_type": "code",
   "execution_count": null,
   "id": "45f380c6",
   "metadata": {
    "ExecuteTime": {
     "end_time": "2024-05-17T17:53:16.067063Z",
     "start_time": "2024-05-17T17:53:16.061847Z"
    },
    "tags": [
     "parameters"
    ]
   },
   "outputs": [],
   "source": [
    "harmony_host_url = 'https://harmony.uat.earthdata.nasa.gov'"
   ]
  },
  {
   "cell_type": "markdown",
   "id": "9237f449",
   "metadata": {},
   "source": [
    "### Identify Harmony environment (for easier reference):"
   ]
  },
  {
   "cell_type": "code",
   "execution_count": null,
   "id": "4420bb6e",
   "metadata": {
    "ExecuteTime": {
     "end_time": "2024-05-17T17:53:23.137293Z",
     "start_time": "2024-05-17T17:53:20.917984Z"
    }
   },
   "outputs": [],
   "source": [
    "host_environment = {\n",
    "    'http://localhost:3000': Environment.LOCAL,\n",
    "    'https://harmony.uat.earthdata.nasa.gov': Environment.UAT,\n",
    "    'https://harmony.earthdata.nasa.gov': Environment.PROD,\n",
    "}\n",
    "\n",
    "data_environment = 'PROD' if harmony_host_url == '' else 'UAT'\n",
    "req_infos = {\n",
    "    'UAT': {\n",
    "        # TEMPO NO2 tropospheric, stratospheric, and total columns V03\n",
    "        'collection': Collection(id='C1262899916-LARC_CLOUD'),\n",
    "        'temporal': {\n",
    "            'start': datetime(2024, 3, 28, 15, 34, 0),\n",
    "            'stop': datetime(2024, 3, 28, 16, 0, 0),\n",
    "        },\n",
    "        'spatial': BBox(-170, 33, -10, 38),\n",
    "        'granule_id': [\n",
    "            'G1263137623-LARC_CLOUD',\n",
    "            'G1263137394-LARC_CLOUD',\n",
    "            'G1263137387-LARC_CLOUD',\n",
    "            'G1263137388-LARC_CLOUD',\n",
    "            'G1263137378-LARC_CLOUD',\n",
    "        ],\n",
    "        # chosen variables include one variable from each group\n",
    "        # support/scattering_weights is 3D variable\n",
    "        'variables': [\n",
    "            'product/vertical_column_stratosphere',\n",
    "            'qa_statistics/fit_rms_residual',\n",
    "            'support_data/scattering_weights',\n",
    "        ],\n",
    "    },\n",
    "}\n",
    "\n",
    "req_info = req_infos.get(data_environment)\n",
    "harmony_environment = host_environment.get(harmony_host_url)\n",
    "\n",
    "if harmony_environment is not None:\n",
    "    harmony_client = Client(env=harmony_environment)"
   ]
  },
  {
   "cell_type": "markdown",
   "id": "fc7aef85",
   "metadata": {},
   "source": [
    "# Begin regression tests:"
   ]
  },
  {
   "cell_type": "markdown",
   "id": "9dd58c71-0232-4a20-9dc4-ef6b3544e797",
   "metadata": {},
   "source": [
    "## SAMBAH\n",
    "\n",
    "SAMBAH is currently deployed to Sandbox, SIT, UAT and production.\n",
    "Requests will be made against the TEMPO NO2 L2 V03 collection."
   ]
  },
  {
   "cell_type": "markdown",
   "id": "ef9ec4d2-2228-47d0-a990-d5a4d77b7bc7",
   "metadata": {},
   "source": [
    "### SAMBAH: temporal, variable and bounding box subset request\n",
    "\n",
    "This is a request that exercises the full range of SAMBAH options: temporal, bounding box and variable subsetting.\n",
    "\n",
    "Requested variable names:\n",
    "\n",
    "* `2024-3-28 15:34:00 < time < 2024-3-28 16:00:00`\n",
    "* `product/vertical_column_total`\n",
    "* `BBox(-170,30,-10,40)`"
   ]
  },
  {
   "cell_type": "code",
   "execution_count": null,
   "id": "d6aaf063-1f3c-4d84-b414-ca80e65ef78b",
   "metadata": {
    "ExecuteTime": {
     "end_time": "2024-05-17T17:55:05.307685Z",
     "start_time": "2024-05-17T17:53:50.692944Z"
    }
   },
   "outputs": [],
   "source": [
    "temp_var_bbox_request = Request(\n",
    "    collection=req_info['collection'],\n",
    "    extend=['mirror_step'],\n",
    "    granule_id=req_info['granule_id'],\n",
    "    temporal=req_info['temporal'],\n",
    "    variables=req_info['variables'],\n",
    "    spatial=req_info['spatial'],\n",
    ")\n",
    "\n",
    "\n",
    "temp_var_bbox_filename = 'temp_var_bbox.nc4'\n",
    "submit_and_download(harmony_client, temp_var_bbox_request, temp_var_bbox_filename)\n",
    "assert exists(\n",
    "    temp_var_bbox_filename\n",
    "), 'Unsuccessful SAMBAH temporal, variable, bounding box request.'\n",
    "\n",
    "\n",
    "compare_results_to_reference_file(temp_var_bbox_filename)\n",
    "compare_results_to_reference_file(temp_var_bbox_filename, 'product')\n",
    "# compare_results_to_reference_file(temp_var_bbox_filename, 'geolocation')\n",
    "compare_results_to_reference_file(temp_var_bbox_filename, 'qa_statistics')\n",
    "compare_results_to_reference_file(temp_var_bbox_filename, 'support_data')\n",
    "\n",
    "\n",
    "print(\"SAMBAH temporal, variable, bounding box request: success\")"
   ]
  },
  {
   "cell_type": "markdown",
   "id": "6603a5c2-9ef2-4620-93a5-029963eca195",
   "metadata": {},
   "source": [
    "### SAMBAH: variable subset request"
   ]
  },
  {
   "cell_type": "code",
   "execution_count": null,
   "id": "90bb3455-f82c-4cd8-93f2-feba79fbed7b",
   "metadata": {},
   "outputs": [],
   "source": [
    "var_only_request = Request(\n",
    "    collection=req_info['collection'],\n",
    "    extend='mirror_step',\n",
    "    granule_id=req_info['granule_id'],\n",
    "    variables=req_info['variables'],\n",
    ")\n",
    "\n",
    "var_only_filename = 'var_only.nc4'\n",
    "submit_and_download(harmony_client, var_only_request, var_only_filename)\n",
    "assert exists(var_only_filename), 'Unsuccessful SAMBAH variable request.'\n",
    "\n",
    "compare_results_to_reference_file(var_only_filename)\n",
    "print(\"SAMBAH variable request: success\")"
   ]
  },
  {
   "cell_type": "markdown",
   "id": "c8322c1b-7fad-4b87-a46d-abf5f0ee56df",
   "metadata": {},
   "source": [
    "### SAMBAH: spatial request"
   ]
  },
  {
   "cell_type": "code",
   "execution_count": null,
   "id": "567d0146-5932-4542-9361-2908c4ce3278",
   "metadata": {},
   "outputs": [],
   "source": [
    "xr.open_dataset(\"var_only.nc4\")"
   ]
  },
  {
   "cell_type": "code",
   "execution_count": null,
   "id": "4330105a-f9f0-429e-9762-3049f408d635",
   "metadata": {},
   "outputs": [],
   "source": [
    "spatial_only_request = Request(\n",
    "    collection=req_info['collection'],\n",
    "    extend='mirror_step',\n",
    "    granule_id=req_info['granule_id'],\n",
    "    spatial=req_info['spatial'],\n",
    ")\n",
    "\n",
    "spatial_only_filename = 'spatial_only.nc4'\n",
    "submit_and_download(harmony_client, spatial_only_request, spatial_only_filename)\n",
    "assert exists(spatial_only_filename), 'Unsuccessful SAMBAH temporal request.'\n",
    "\n",
    "compare_results_to_reference_file(spatial_only_filename)\n",
    "print(\"SAMBAH spatial request: success\")"
   ]
  },
  {
   "cell_type": "markdown",
   "id": "d0629b4f-1990-42f7-b19d-025e46a96629",
   "metadata": {},
   "source": [
    "### SAMBAH: no subsetting required\n"
   ]
  },
  {
   "cell_type": "code",
   "execution_count": null,
   "id": "c747cfcc-e63a-4858-b406-a4ec87b6acb5",
   "metadata": {},
   "outputs": [],
   "source": [
    "all_data_request = Request(\n",
    "    collection=req_info['collection'],\n",
    "    extend='mirror_step',\n",
    "    granule_id=req_info['granule_id'],\n",
    ")\n",
    "\n",
    "all_data_filename = 'all_data.nc4'\n",
    "submit_and_download(harmony_client, all_data_request, all_data_filename)\n",
    "assert exists(\n",
    "    all_data_filename\n",
    "), 'Unsuccessful SAMBAH temporal, variable, bounding box request.'\n",
    "\n",
    "compare_results_to_reference_file(all_data_filename)\n",
    "print(\"SAMBAH temporal, variable, bounding box request: success\")"
   ]
  },
  {
   "cell_type": "markdown",
   "id": "ca88eb71-2526-4b34-8ff7-441f869244e0",
   "metadata": {},
   "source": [
    "# Clean up test outputs:"
   ]
  },
  {
   "cell_type": "code",
   "execution_count": null,
   "id": "73fdd147-74a0-48d3-957f-388e2abe356a",
   "metadata": {},
   "outputs": [],
   "source": [
    "remove_results_files()"
   ]
  }
 ],
 "metadata": {
  "celltoolbar": "Tags",
  "kernelspec": {
   "display_name": "temp-new-env-for-sambah-regression",
   "language": "python",
   "name": "temp-new-env-for-sambah-regression"
  },
  "language_info": {
   "codemirror_mode": {
    "name": "ipython",
    "version": 3
   },
   "file_extension": ".py",
   "mimetype": "text/x-python",
   "name": "python",
   "nbconvert_exporter": "python",
   "pygments_lexer": "ipython3",
   "version": "3.10.13"
  },
  "name": "SDS_Regression.ipynb"
 },
 "nbformat": 4,
 "nbformat_minor": 5
}
